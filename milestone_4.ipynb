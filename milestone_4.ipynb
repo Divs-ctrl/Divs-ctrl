{
  "cells": [
    {
      "cell_type": "markdown",
      "metadata": {
        "id": "i_xLFYD8a_h3"
      },
      "source": [
        "# Movie Recommendation - Milestone 4\n"
      ]
    },
    {
      "cell_type": "markdown",
      "metadata": {
        "id": "HA6f3C3uUchI"
      },
      "source": [
        "<details>\n",
        "  <summary>Click in any of these links to compare your solution with ours up to this point</summary>\n",
        "  <p>\n",
        "    <a href=\"https://colab.research.google.com/github/AI-Core/movie-recommendation-solutions/blob/main/solution_m1.ipynb\" target=\"_parent\">Solution for milestone 1</a>\n",
        "  </p>\n",
        "  <p>\n",
        "    <a href=\"https://colab.research.google.com/github/AI-Core/movie-recommendation-solutions/blob/main/solution_m2.ipynb\" target=\"_parent\">Solution for milestone 2</a>\n",
        "  </p>\n",
        "    <p>\n",
        "        <a href=\"https://colab.research.google.com/github/AI-Core/movie-recommendation-solutions/blob/main/solution_m3.ipynb\" target=\"_parent\">Solution for milestone 3</a>\n",
        "    </p>\n",
        "</details>"
      ]
    },
    {
      "cell_type": "code",
      "execution_count": 1,
      "metadata": {
        "id": "0APzS4KuUchK",
        "outputId": "5d2b1cc9-f042-4d0b-8ff7-2c7acbf5ef41",
        "colab": {
          "base_uri": "https://localhost:8080/"
        }
      },
      "outputs": [
        {
          "output_type": "stream",
          "name": "stdout",
          "text": [
            "  Preparing metadata (setup.py) ... \u001b[?25l\u001b[?25hdone\n",
            "  Preparing metadata (setup.py) ... \u001b[?25l\u001b[?25hdone\n",
            "  Building wheel for movie-rec-marking-aicore (setup.py) ... \u001b[?25l\u001b[?25hdone\n",
            "  Building wheel for timeout-decorator (setup.py) ... \u001b[?25l\u001b[?25hdone\n"
          ]
        }
      ],
      "source": [
        "#@title # Run the following cell to add the `movies` variable and the `get_unique_genres` and `get_movies_in_genre` functions will be available for you to use. { display-mode: \"form\" }\n",
        "#@markdown Don’t worry about what’s in this collapsed cell, you’re not expected to understand the code inside\n",
        "\n",
        "!pip install movie-rec-marking-aicore --upgrade --quiet\n",
        "!wget https://aicore-files.s3.amazonaws.com/Movie-Recommendation/movies.json --quiet\n",
        "from movie_rec_marking import test_milestone_4\n",
        "import json\n",
        "with open('movies.json', 'r') as f:\n",
        "    movies = json.load(f)\n",
        "\n",
        "def get_unique_genres():\n",
        "    genres = []\n",
        "    for movie in movies:\n",
        "        genres.append(movie[\"genre\"])\n",
        "    genres = set(genres)\n",
        "    return genres\n",
        "\n",
        "def get_movies_in_genre(genre):\n",
        "    movies_in_genre = []\n",
        "    for movie in movies:\n",
        "        if movie[\"genre\"] == genre:\n",
        "            movies_in_genre.append(movie)\n",
        "    return movies_in_genre"
      ]
    },
    {
      "cell_type": "markdown",
      "metadata": {
        "id": "MYQw48Lqa3Q4"
      },
      "source": [
        "# Task 1\n",
        "### Ask the user what genre they are interested in\n",
        "\n",
        "Before you ask a user for their input, print out all of the available options. Get this from your `get_unique_genre`s method defined earlier.\n",
        "\n",
        "Then, take a user input using the `input()` function and assign it to the variable genre_choice.\n",
        "\n",
        "Put all of this in a function called `get_user_genre_choice`.\n",
        "\n",
        "Open this notebook  to get started, and follow the instructions for this milestone.\n",
        "\n"
      ]
    },
    {
      "cell_type": "code",
      "execution_count": 6,
      "metadata": {
        "id": "1UpT9BAym0iW"
      },
      "outputs": [],
      "source": [
        "## Write your code here\n",
        "\n",
        "def get_unique_genres():\n",
        "    genres = []\n",
        "    for movie in movies:\n",
        "        genres.append(movie[\"genre\"])\n",
        "    genres = set(genres)\n",
        "    return genres\n",
        "\n",
        "def get_user_genre_choice() :\n",
        "    genres = get_unique_genres()\n",
        "    print(\"Available genres:\")\n",
        "    for genre in genres:\n",
        "        print(genre)\n",
        "    genre_choice = input(\"Enter a genre: \")\n",
        "    return genre_choice\n",
        "\n",
        "\n",
        "\n"
      ]
    },
    {
      "cell_type": "code",
      "execution_count": 7,
      "metadata": {
        "id": "oDoJj4bgUchN",
        "outputId": "7fd4883c-cd97-4643-a3ce-eef74d68e99f",
        "colab": {
          "base_uri": "https://localhost:8080/"
        }
      },
      "outputs": [
        {
          "output_type": "stream",
          "name": "stdout",
          "text": [
            "Great! The \"get_user_genre_choice\" function prints the correct genre\n",
            "You can continue to the next task\n"
          ]
        }
      ],
      "source": [
        "#@title Run this cell to check your solution { display-mode: \"form\", run: \"auto\" }\n",
        "\n",
        "assert 'get_user_genre_choice' in globals(), \"You need to define a function called get_user_genre_choice\"\n",
        "task_1 = test_milestone_4.check_get_user_genre_choice(get_user_genre_choice)"
      ]
    },
    {
      "cell_type": "markdown",
      "metadata": {
        "id": "27D8GssjUchO"
      },
      "source": [
        "# Task 2\n",
        "\n",
        "### Show the movies in the selected genre\n",
        "\n",
        "Write some code to show the movies in a selected genre (you don't need to define this as a function yet):\n",
        "\n",
        "Use your `get_movies_in_genre` function to get a list of movies in the genre selected.\n",
        "\n",
        "\n",
        "Print each movie within the selected genre on a new line. At the start of the line, print the integer index of the movie.\n",
        "\n",
        "\n",
        "Make sure to:\n",
        "\n",
        "- Use the built-in `enumerate` function\n",
        "- Use an f-string to format the printed text\n",
        "\n",
        "To avoid confusing users, make the indexing start from 1 rather than zero. For example, one line should look something like: `\"3: The Dark Knight\"`."
      ]
    },
    {
      "cell_type": "code",
      "execution_count": 20,
      "metadata": {
        "id": "nwFYFq4cUchO",
        "outputId": "0c2ac995-1953-4b57-8c67-27d4ec5043b9",
        "colab": {
          "base_uri": "https://localhost:8080/",
          "height": 211
        }
      },
      "outputs": [
        {
          "output_type": "error",
          "ename": "NameError",
          "evalue": "name 'genre' is not defined",
          "traceback": [
            "\u001b[0;31m---------------------------------------------------------------------------\u001b[0m",
            "\u001b[0;31mNameError\u001b[0m                                 Traceback (most recent call last)",
            "\u001b[0;32m<ipython-input-20-6fa766da9c15>\u001b[0m in \u001b[0;36m<cell line: 2>\u001b[0;34m()\u001b[0m\n\u001b[1;32m      1\u001b[0m \u001b[0;31m## Write your code here\u001b[0m\u001b[0;34m\u001b[0m\u001b[0;34m\u001b[0m\u001b[0m\n\u001b[0;32m----> 2\u001b[0;31m \u001b[0mget_movies_in_genre\u001b[0m\u001b[0;34m(\u001b[0m\u001b[0mgenre\u001b[0m\u001b[0;34m)\u001b[0m\u001b[0;34m\u001b[0m\u001b[0;34m\u001b[0m\u001b[0m\n\u001b[0m\u001b[1;32m      3\u001b[0m \u001b[0;34m\u001b[0m\u001b[0m\n\u001b[1;32m      4\u001b[0m \u001b[0;34m\u001b[0m\u001b[0m\n\u001b[1;32m      5\u001b[0m \u001b[0mselected_genre\u001b[0m \u001b[0;34m=\u001b[0m \u001b[0;34m\"crime\"\u001b[0m\u001b[0;34m\u001b[0m\u001b[0;34m\u001b[0m\u001b[0m\n",
            "\u001b[0;31mNameError\u001b[0m: name 'genre' is not defined"
          ]
        }
      ],
      "source": [
        "## Write your code here\n",
        "get_movies_in_genre(genre)\n",
        "\n",
        "\n",
        "selected_genre = \"crime\"\n",
        "\n",
        "selected_movies = get_movies_in_genre(selected_genre)\n",
        "\n",
        "# Print the movies with 1-based index\n",
        "for index, movie in enumerate(selected_movies, start=1):\n",
        "    print(f\"{index+1}: {movie['title']}\")\n",
        "\n"
      ]
    },
    {
      "cell_type": "code",
      "execution_count": null,
      "metadata": {
        "id": "Ib8pGDoKUchP"
      },
      "outputs": [],
      "source": [
        "#@title Enter your solution here { display-mode: \"form\", run: \"auto\" }\n",
        "#@markdown For Action, which is the movie corresponding to index 12?\n",
        "first_movie = \"Select your option\" #@param [\"The Dark Knight\", \"Leon\", \"Harakiri\", \"Gladiator\", \"Pirates of the Caribbean: The Curse of the Black Pearl\"] {allow-input: true}\n",
        "#@markdown For Drama, which is the movie corresponding to index 7?\n",
        "second_movie = \"Select your option\" #@param [\"The Help\", \"The Shawshank Redemption\", \"The Prestige\", \"Parasite\", \"Saving Private Ryan\"] {allow-input: true}\n",
        "\n",
        "#@markdown For Crime, which is the movie corresponding to index 26?\n",
        "third_movie = \"Select your option\" #@param [\"Rashomon\", \"Reservoir Dogs\", \"The Godfather\", \"No Country for Old Men\", \"Dial M for Murder\"] {allow-input: true}\n",
        "task_2 = test_milestone_4.check_get_movies_in_genre(first_movie, second_movie, third_movie, task_1)"
      ]
    },
    {
      "cell_type": "markdown",
      "metadata": {
        "id": "_CyMQxIOUchQ"
      },
      "source": [
        "# Task 3\n",
        "\n",
        "### Select and display the details of a movie\n",
        "\n",
        "Define a new function called `get_movie_by_index`. It should first print out all the movies in the genre selected.\n",
        "\n",
        "Then, it should ask the user to select a movie by entering the index of the movie. Assign this to a variable named `selected_movie_index`.\n",
        "\n",
        "\n",
        "HINT: Be careful of what data type is returned from the `input()` function.\n",
        "\n",
        "Print the key-value pairs of the selected movie's dictionary each on a new line.\n",
        "\n",
        "On each line, print the key and the value, separated by a comma.\n",
        "\n",
        "\n",
        "Make sure to use the `.items()` method of the dictionary.\n",
        "\n",
        "\n",
        "Your program should end after this."
      ]
    },
    {
      "cell_type": "code",
      "execution_count": null,
      "metadata": {
        "id": "KStWoYWwUchQ"
      },
      "outputs": [],
      "source": [
        "## Write your code here"
      ]
    },
    {
      "cell_type": "code",
      "execution_count": null,
      "metadata": {
        "id": "Q3RnRYXDUchR"
      },
      "outputs": [],
      "source": [
        "#@title Run this cell to check your solution { display-mode: \"form\", run: \"auto\" }\n",
        "\n",
        "assert 'get_movie_by_index' in globals(), \"You need to define a function called get_movie_by_index\"\n",
        "task_3 = test_milestone_4.check_get_movie_by_index(get_movie_by_index, task_2)"
      ]
    }
  ],
  "metadata": {
    "colab": {
      "provenance": []
    },
    "kernelspec": {
      "display_name": "Python 3.9.5 ('base')",
      "language": "python",
      "name": "python3"
    },
    "language_info": {
      "codemirror_mode": {
        "name": "ipython",
        "version": 3
      },
      "file_extension": ".py",
      "mimetype": "text/x-python",
      "name": "python",
      "nbconvert_exporter": "python",
      "pygments_lexer": "ipython3",
      "version": "3.9.5 (default, Jun  4 2021, 12:28:51) \n[GCC 7.5.0]"
    },
    "orig_nbformat": 4,
    "vscode": {
      "interpreter": {
        "hash": "ce99af5845ff7f417c6fe57e3883abe41597db90e3f493c4f9da5159bbc46102"
      }
    }
  },
  "nbformat": 4,
  "nbformat_minor": 0
}