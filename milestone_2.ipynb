{
  "cells": [
    {
      "cell_type": "markdown",
      "metadata": {
        "id": "i_xLFYD8a_h3"
      },
      "source": [
        "# Movie Recommendation - Milestone 2"
      ]
    },
    {
      "cell_type": "markdown",
      "metadata": {
        "id": "Qi76UK9iNZ05"
      },
      "source": [
        "<details>\n",
        "  <summary>Click in any of these links to compare your solution with ours up to this point</summary>\n",
        "  <p>\n",
        "    <a href=\"https://colab.research.google.com/github/AI-Core/movie-recommendation-solutions/blob/main/solution_m1.ipynb\" target=\"_parent\">Solution for milestone 1</a>\n",
        "  </p>\n",
        "</details>"
      ]
    },
    {
      "cell_type": "code",
      "execution_count": 2,
      "metadata": {
        "colab": {
          "base_uri": "https://localhost:8080/"
        },
        "id": "RLn-_E7Ba3Q4",
        "outputId": "3f9bc691-86e5-4014-9673-f5510a31bf4a"
      },
      "outputs": [
        {
          "output_type": "stream",
          "name": "stdout",
          "text": [
            "  Preparing metadata (setup.py) ... \u001b[?25l\u001b[?25hdone\n",
            "  Preparing metadata (setup.py) ... \u001b[?25l\u001b[?25hdone\n",
            "  Building wheel for movie-rec-marking-aicore (setup.py) ... \u001b[?25l\u001b[?25hdone\n",
            "  Building wheel for timeout-decorator (setup.py) ... \u001b[?25l\u001b[?25hdone\n"
          ]
        }
      ],
      "source": [
        "#@title # Run this cell before you start coding { display-mode: \"form\" }\n",
        "#@markdown Don’t worry about what’s in this collapsed cell, you’re not expected to understand the code inside\n",
        "\n",
        "!pip install movie-rec-marking-aicore --upgrade --quiet\n",
        "!wget https://aicore-files.s3.amazonaws.com/Movie-Recommendation/movies-head.json --quiet\n",
        "import json\n",
        "from movie_rec_marking import test_milestone_2\n",
        "\n",
        "# Load the movies\n",
        "with open('movies-head.json', 'r') as f:\n",
        "    movies = json.load(f)"
      ]
    },
    {
      "cell_type": "markdown",
      "metadata": {
        "id": "MYQw48Lqa3Q4"
      },
      "source": [
        "# Task 1\n",
        "### Display all the movies' titles\n",
        "\n",
        "Define a function called `print_every_movie_title` that goes through the list of movies and prints each of their title, one by one. The function should not return anything"
      ]
    },
    {
      "cell_type": "code",
      "execution_count": 3,
      "metadata": {
        "id": "1UpT9BAym0iW"
      },
      "outputs": [],
      "source": [
        "## Write your code here\n",
        "def print_every_movie_title(movies):\n",
        "    # Loop through the list of movies\n",
        "    for movie in movies:\n",
        "        # Print the title of each movie\n",
        "        print(movie['title'])"
      ]
    },
    {
      "cell_type": "code",
      "execution_count": 4,
      "metadata": {
        "id": "_3E8_sK6NZ08",
        "outputId": "55153e7f-c4ba-49fc-cbee-b0f9c73dbb18",
        "colab": {
          "base_uri": "https://localhost:8080/"
        }
      },
      "outputs": [
        {
          "output_type": "stream",
          "name": "stdout",
          "text": [
            "Great! The function prints every movie name\n",
            "You can continue to the next task\n"
          ]
        }
      ],
      "source": [
        "#@title Run this cell to check your solution { display-mode: \"form\", run: \"auto\" }\n",
        "assert 'print_every_movie_title' in globals(), \"Please define the function print_every_movie_title\"\n",
        "task_1 = test_milestone_2.check_print_every_movie_title(print_every_movie_title)"
      ]
    },
    {
      "cell_type": "markdown",
      "metadata": {
        "id": "ZADEd5LXNZ09"
      },
      "source": [
        "# Task 2\n",
        "\n",
        "### What is the length of a given movie's description?\n",
        "\n",
        "Define a function called `get_movie_description_length` that takes in one of the movies from the list of movies.\n",
        "You should pass the entire dictionary from the relevant entry in the list of movies as an input argument to the function.\n",
        "The function should then return the exact number of characters in its description, formatted as an integer.\n",
        "\n",
        "Test the function you have defined by using it to check the description of the the first entry in the `movies` list (i.e. `movies[0]`)."
      ]
    },
    {
      "cell_type": "code",
      "execution_count": 5,
      "metadata": {
        "id": "D5kO9LB5NZ09"
      },
      "outputs": [],
      "source": [
        "## Write your code here\n",
        "def get_movie_description_length(movie):\n",
        "    # Return the length of the description (assuming 'description' is a key in the movie dictionary)\n",
        "    return len(movie['description'])"
      ]
    },
    {
      "cell_type": "code",
      "execution_count": 6,
      "metadata": {
        "id": "KkOIK8yLNZ09",
        "outputId": "1709c469-c4d4-40a0-da17-8fe4b8932d1f",
        "colab": {
          "base_uri": "https://localhost:8080/"
        }
      },
      "outputs": [
        {
          "output_type": "stream",
          "name": "stdout",
          "text": [
            "testing  the function with movie:  The Godfather\n",
            "Testing that the function can accept a movie as an argument, and that it returns the correct length of the description as an integer type\n",
            "Great! The function returns the correct length of the description:  149\n",
            "You can continue to the next task\n"
          ]
        }
      ],
      "source": [
        "#@title Run this cell to check your solution { display-mode: \"form\", run: \"auto\" }\n",
        "assert 'get_movie_description_length' in globals(), \"Please define the function get_movie_description_length\"\n",
        "task_2 = test_milestone_2.check_get_movie_description_length(get_movie_description_length, task_1)"
      ]
    },
    {
      "cell_type": "markdown",
      "metadata": {
        "id": "x18J0tRXNZ0-"
      },
      "source": [
        "# Task 3\n",
        "\n",
        "### What is the average length of any movie description?\n",
        "\n",
        "Define a function called `get_avg_movie_description_length` that returns the average number of characters in each movie description, averaged across the whole dataset.\n",
        "\n",
        "The function should return a floating point number, rounded to 1 decimal place.\n",
        "\n",
        "To avoid repeating code, make sure that you use the function you defined earlier for getting the movie description length inside this function."
      ]
    },
    {
      "cell_type": "code",
      "execution_count": 7,
      "metadata": {
        "id": "1YUuXEx8NZ0-"
      },
      "outputs": [],
      "source": [
        "## Write your code here\n",
        "def get_avg_movie_description_length(movie):\n",
        "  for movie in movies:\n",
        "      total_length = 0\n",
        "      for movie in movies:\n",
        "          total_length += len(movie['description'])\n",
        "      return round(total_length / len(movies), 1)"
      ]
    },
    {
      "cell_type": "code",
      "execution_count": 8,
      "metadata": {
        "id": "tin6KhOGNZ0-",
        "outputId": "00ad7813-bf03-4645-f5ae-51d2191e544e",
        "colab": {
          "base_uri": "https://localhost:8080/"
        }
      },
      "outputs": [
        {
          "output_type": "stream",
          "name": "stdout",
          "text": [
            "Great! The \"get_avg_movie_description_length\" function returns the correct average length of the description\n",
            "You can continue to the next task\n"
          ]
        }
      ],
      "source": [
        "#@title Run this cell to check your solution { display-mode: \"form\", run: \"auto\" }\n",
        "assert 'get_avg_movie_description_length' in globals(), \"Please define the function get_avg_movie_description_length\"\n",
        "task_3 = test_milestone_2.check_get_avg_movie_description_length(get_avg_movie_description_length, task_2)"
      ]
    },
    {
      "cell_type": "markdown",
      "metadata": {
        "id": "-6bdb65iNZ0-"
      },
      "source": [
        "# Task 4\n",
        "\n",
        "### What is the maximum length of any movie name?\n",
        "\n",
        "Define a function called `get_max_movie_name_length`.\n",
        "\n",
        "It should return two things, in this order:\n",
        "\n",
        "1. The integer number of the length of the longest movie name\n",
        "2. The name of the movie"
      ]
    },
    {
      "cell_type": "code",
      "execution_count": 9,
      "metadata": {
        "id": "NJN23yTFNZ0-"
      },
      "outputs": [],
      "source": [
        "## Write your code here\n",
        "def get_max_movie_name_length(movie):\n",
        "  for movie in movies:\n",
        "      max_length = 0\n",
        "      max_title = \" \"\n",
        "      for movie in movies:\n",
        "          if len(movie['title']) > max_length:\n",
        "              max_length = len(movie['title'])\n",
        "              max_title = movie['title']\n",
        "      return max_length, max_title\n",
        ""
      ]
    },
    {
      "cell_type": "code",
      "execution_count": 10,
      "metadata": {
        "id": "EQGVZh3uNZ0_",
        "outputId": "ac961c37-4b9d-4cb4-9f27-2f9de64b546a",
        "colab": {
          "base_uri": "https://localhost:8080/"
        }
      },
      "outputs": [
        {
          "output_type": "stream",
          "name": "stdout",
          "text": [
            "Great! The \"get_max_movie_name_length\" function returns the correct maximum length of the movie name:  (24, 'The Shawshank Redemption')\n",
            "Nice job! You have complete the second milestone of the project!\n"
          ]
        }
      ],
      "source": [
        "#@title Run this cell to check your solution { display-mode: \"form\", run: \"auto\" }\n",
        "assert 'get_max_movie_name_length' in globals(), \"Please define the function get_max_movie_name_length\"\n",
        "task_4 = test_milestone_2.check_get_max_movie_name_length(get_max_movie_name_length, task_3)"
      ]
    }
  ],
  "metadata": {
    "colab": {
      "provenance": []
    },
    "kernelspec": {
      "display_name": "base",
      "language": "python",
      "name": "python3"
    },
    "language_info": {
      "codemirror_mode": {
        "name": "ipython",
        "version": 3
      },
      "file_extension": ".py",
      "mimetype": "text/x-python",
      "name": "python",
      "nbconvert_exporter": "python",
      "pygments_lexer": "ipython3",
      "version": "3.9.12 (main, Apr  5 2022, 06:56:58) \n[GCC 7.5.0]"
    },
    "orig_nbformat": 4,
    "vscode": {
      "interpreter": {
        "hash": "a2592652612463181e69ac003232387e3e9a99279aa6b168e76f5df16d5110f4"
      }
    }
  },
  "nbformat": 4,
  "nbformat_minor": 0
}