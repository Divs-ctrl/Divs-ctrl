{
  "cells": [
    {
      "cell_type": "markdown",
      "metadata": {
        "id": "KusltDSHfHMi"
      },
      "source": [
        "# Handle a Zero Divisor"
      ]
    },
    {
      "cell_type": "markdown",
      "metadata": {
        "id": "UL_YMi84fHMl"
      },
      "source": [
        "Write a function that uses a `try`-`except` block to handle a `ZeroDivisionError`. It should take in two numbers  `a` and `b` as input parameters, and return `a/b`, except where a `ZeroDivisonError` occurs, in which case it should retsurn `0`. Call it with the arguments `a=x` and `b=y` to check it."
      ]
    },
    {
      "cell_type": "code",
      "execution_count": 2,
      "metadata": {
        "id": "TMzm2LDyfHMm",
        "outputId": "14b2878b-fb73-4ca0-d47d-40e1bb8e1ab8",
        "colab": {
          "base_uri": "https://localhost:8080/"
        }
      },
      "outputs": [
        {
          "output_type": "execute_result",
          "data": {
            "text/plain": [
              "0"
            ]
          },
          "metadata": {},
          "execution_count": 2
        }
      ],
      "source": [
        "x = 10\n",
        "y = 0\n",
        "a = x\n",
        "b = y\n",
        "def divide(a,b) :\n",
        "    try :\n",
        "        return a/b\n",
        "    except ZeroDivisionError :\n",
        "        return 0\n",
        "divide(a,b)\n",
        "\n",
        "# TODO: Create a divide function that uses a try-except block to return a 0 in case of a ZeroDivisionError\n"
      ]
    },
    {
      "cell_type": "markdown",
      "metadata": {
        "id": "pZ--TQvyfHMn"
      },
      "source": [
        "Now modify the function so that instead of taking in two parameters, it asks for user input to get the values of `a` and `b`. In the case of a `ZeroDivisionError` it should request the user re-enter their input"
      ]
    },
    {
      "cell_type": "code",
      "execution_count": 7,
      "metadata": {
        "id": "-KkKdPeXfHMo",
        "outputId": "040b1e54-15f6-4d22-f16a-882f56cf6821",
        "colab": {
          "base_uri": "https://localhost:8080/"
        }
      },
      "outputs": [
        {
          "name": "stdout",
          "output_type": "stream",
          "text": [
            "Enter the value of a :10\n",
            "Enter the value of b :0\n"
          ]
        },
        {
          "output_type": "execute_result",
          "data": {
            "text/plain": [
              "0"
            ]
          },
          "metadata": {},
          "execution_count": 7
        }
      ],
      "source": [
        "# TODO: Create a user_input_divide function that asks for two user input for a and b, and returns a/b, handling the ZeroDivisionError by requesting new input\n",
        "def divide(a,b) :\n",
        "    try :\n",
        "      a = int (input(\"Enter the value of a :\"))\n",
        "      b = int (input(\"Enter the value of b :\"))\n",
        "      return a / b\n",
        "    except ZeroDivisionError :\n",
        "        return 0\n",
        "divide(a,b)"
      ]
    }
  ],
  "metadata": {
    "kernelspec": {
      "display_name": "content_repo",
      "language": "python",
      "name": "python3"
    },
    "language_info": {
      "codemirror_mode": {
        "name": "ipython",
        "version": 3
      },
      "file_extension": ".py",
      "mimetype": "text/x-python",
      "name": "python",
      "nbconvert_exporter": "python",
      "pygments_lexer": "ipython3",
      "version": "3.11.3"
    },
    "colab": {
      "provenance": []
    }
  },
  "nbformat": 4,
  "nbformat_minor": 0
}