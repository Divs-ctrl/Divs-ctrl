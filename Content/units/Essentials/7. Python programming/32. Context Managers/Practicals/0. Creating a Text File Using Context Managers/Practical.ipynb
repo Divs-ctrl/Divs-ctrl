{
  "cells": [
    {
      "cell_type": "markdown",
      "metadata": {
        "id": "dwSaqIhtSw7H"
      },
      "source": [
        "# Creating a Text File Using Context Managers"
      ]
    },
    {
      "cell_type": "markdown",
      "metadata": {
        "id": "u6eUzXZeSw7K"
      },
      "source": [
        "Create a context manager that opens a file called `test.txt` in write mode and writes the message \"Hello, I am a context manager!\" to the file."
      ]
    },
    {
      "cell_type": "code",
      "execution_count": 1,
      "metadata": {
        "id": "F_CCJ4Q7Sw7L"
      },
      "outputs": [],
      "source": [
        "# TODO: Create a context manager that opens a file called `test.txt` in write mode and writes the message \"Hello, I am a context manager!\" to the file.\n",
        "with open(\"test.txt\", \"w\") as f:\n",
        "    f.write(\"Hello, I am a context manager!\")"
      ]
    },
    {
      "cell_type": "markdown",
      "metadata": {
        "id": "GcIdat87Sw7O"
      },
      "source": [
        "Now use a context manager to read the file you just saved into a variable called `my_string`, and print it out:"
      ]
    },
    {
      "cell_type": "code",
      "execution_count": 2,
      "metadata": {
        "id": "Yz9umc2ISw7O",
        "outputId": "f4c821a2-93a7-4bff-c777-b2223a733190",
        "colab": {
          "base_uri": "https://localhost:8080/"
        }
      },
      "outputs": [
        {
          "output_type": "stream",
          "name": "stdout",
          "text": [
            "Hello, I am a context manager!\n"
          ]
        }
      ],
      "source": [
        "# TODO: Create a context manager that opens a file called `test.txt` in read mode and reads the contents of the file into a variable called `my_string`.\n",
        "# TODO: Print `my_string `\n",
        "with open(\"test.txt\", \"r\") as f:\n",
        "    my_string = f.read()\n",
        "print(my_string)"
      ]
    }
  ],
  "metadata": {
    "language_info": {
      "name": "python"
    },
    "colab": {
      "provenance": []
    },
    "kernelspec": {
      "name": "python3",
      "display_name": "Python 3"
    }
  },
  "nbformat": 4,
  "nbformat_minor": 0
}